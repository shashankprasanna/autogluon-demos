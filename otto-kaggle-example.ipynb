{
 "cells": [
  {
   "cell_type": "code",
   "execution_count": null,
   "metadata": {},
   "outputs": [],
   "source": [
    "from autogluon import TabularPrediction as task\n",
    "import time"
   ]
  },
  {
   "cell_type": "code",
   "execution_count": null,
   "metadata": {},
   "outputs": [],
   "source": [
    "dataset = 'dataset'\n",
    "!kaggle competitions download -p {dataset} -q otto-group-product-classification-challenge\n",
    "!unzip -d {dataset} {dataset}/otto-group-product-classification-challenge.zip\n",
    "!rm {dataset}/otto-group-product-classification-challenge.zip"
   ]
  },
  {
   "cell_type": "code",
   "execution_count": null,
   "metadata": {},
   "outputs": [],
   "source": [
    "train_data = task.Dataset(file_path=f'{dataset}/train.csv').drop('id', axis=1)\n",
    "train_data.head()"
   ]
  },
  {
   "cell_type": "code",
   "execution_count": null,
   "metadata": {},
   "outputs": [],
   "source": [
    "label_column = 'target' # specifies which column do we want to predict\n",
    "savedir = 'otto_models/' # where to save trained models"
   ]
  },
  {
   "cell_type": "code",
   "execution_count": null,
   "metadata": {},
   "outputs": [],
   "source": [
    "predictor = task.fit(train_data=train_data, \n",
    "                     label=label_column, \n",
    "                     output_directory=savedir, \n",
    "                     eval_metric='log_loss', \n",
    "                     auto_stack=True,\n",
    "                     verbosity=2,\n",
    "                     visualizer='tensorboard')"
   ]
  },
  {
   "cell_type": "code",
   "execution_count": null,
   "metadata": {},
   "outputs": [],
   "source": [
    "results = predictor.fit_summary() # display detailed summary of fit() process"
   ]
  },
  {
   "cell_type": "code",
   "execution_count": null,
   "metadata": {},
   "outputs": [],
   "source": [
    "# predictor = task.load('otto_models')"
   ]
  },
  {
   "cell_type": "code",
   "execution_count": null,
   "metadata": {},
   "outputs": [],
   "source": [
    "dataset = 'dataset'\n",
    "test_data_full = task.Dataset(file_path=f'{dataset}/test.csv')\n",
    "test_data = test_data_full.drop('id', axis=1)"
   ]
  },
  {
   "cell_type": "code",
   "execution_count": null,
   "metadata": {},
   "outputs": [],
   "source": [
    "%%time\n",
    "pred_probablities = predictor.predict_proba(test_data, as_pandas=True)"
   ]
  },
  {
   "cell_type": "code",
   "execution_count": null,
   "metadata": {},
   "outputs": [],
   "source": [
    "pred_probablities.insert(loc=0, column='id', value=test_data_full['id'])"
   ]
  },
  {
   "cell_type": "code",
   "execution_count": null,
   "metadata": {},
   "outputs": [],
   "source": [
    "submission_name = f'submission-{time.strftime(\"%Y-%m-%d-%H-%M-%S-%j\", time.gmtime())}.csv'\n",
    "pred_probablities.to_csv(submission_name,index=False)\n",
    "!kaggle competitions submit otto-group-product-classification-challenge -f {submission_name} -m \"autogluon {submission_name}\""
   ]
  },
  {
   "cell_type": "code",
   "execution_count": null,
   "metadata": {},
   "outputs": [],
   "source": []
  }
 ],
 "metadata": {
  "kernelspec": {
   "display_name": "Python 3",
   "language": "python",
   "name": "python3"
  },
  "language_info": {
   "codemirror_mode": {
    "name": "ipython",
    "version": 3
   },
   "file_extension": ".py",
   "mimetype": "text/x-python",
   "name": "python",
   "nbconvert_exporter": "python",
   "pygments_lexer": "ipython3",
   "version": "3.7.6"
  }
 },
 "nbformat": 4,
 "nbformat_minor": 4
}
